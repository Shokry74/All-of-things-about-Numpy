{
 "cells": [
  {
   "cell_type": "code",
   "execution_count": 1,
   "id": "a31a5c35",
   "metadata": {},
   "outputs": [],
   "source": [
    "import numpy as np"
   ]
  },
  {
   "cell_type": "code",
   "execution_count": 12,
   "id": "009e5ad1",
   "metadata": {},
   "outputs": [
    {
     "name": "stdout",
     "output_type": "stream",
     "text": [
      "6.0\n",
      "5.7\n",
      "5.69\n",
      "5.686\n"
     ]
    }
   ],
   "source": [
    "a = 5.686\n",
    "#Round Funcation\n",
    "print(np.round(a))\n",
    "print(np.round(a,1))\n",
    "print(np.round(a,2))\n",
    "print(np.round(a,3))"
   ]
  },
  {
   "cell_type": "code",
   "execution_count": 15,
   "id": "bcbaff8f",
   "metadata": {},
   "outputs": [
    {
     "name": "stdout",
     "output_type": "stream",
     "text": [
      "6.0\n",
      "5.0\n"
     ]
    }
   ],
   "source": [
    "a = 5.686\n",
    "#Ceil Funcation \"UP\"\n",
    "print(np.ceil(a))\n",
    "#floor Funcation \"Down\"\n",
    "print(np.floor(a))"
   ]
  },
  {
   "cell_type": "code",
   "execution_count": 18,
   "id": "cab38e20",
   "metadata": {},
   "outputs": [
    {
     "name": "stdout",
     "output_type": "stream",
     "text": [
      "3125\n",
      "25\n"
     ]
    }
   ],
   "source": [
    "#Power Funcation \" ^ \" الاس\n",
    "print(np.power(5,5))\n",
    "print(np.power(5,2))"
   ]
  },
  {
   "cell_type": "code",
   "execution_count": 19,
   "id": "ae6fc761",
   "metadata": {},
   "outputs": [
    {
     "name": "stdout",
     "output_type": "stream",
     "text": [
      "0\n",
      "6\n"
     ]
    }
   ],
   "source": [
    "#mod Funcation \" % \" باقي القسمة \n",
    "print(np.mod(20,2))\n",
    "print(np.mod(20,7))"
   ]
  },
  {
   "cell_type": "markdown",
   "id": "9b555e7a",
   "metadata": {},
   "source": [
    "## Matrix  المصفوفات :"
   ]
  },
  {
   "cell_type": "code",
   "execution_count": 21,
   "id": "c77a2938",
   "metadata": {},
   "outputs": [
    {
     "name": "stdout",
     "output_type": "stream",
     "text": [
      "[5, 6, 8, 5, 2, 1, 6, 8, 2, 3, 6]\n",
      "[5 6 8 5 2 1 6 8 2 3 6]\n"
     ]
    }
   ],
   "source": [
    "a = [5,6,8,5,2,1,6,8,2,3,6]\n",
    "b = np.array(a)\n",
    "print(a)\n",
    "print(b)\n",
    "#Note list inculed \",\" but array not inculed \",\""
   ]
  },
  {
   "cell_type": "code",
   "execution_count": 24,
   "id": "431aab63",
   "metadata": {},
   "outputs": [
    {
     "name": "stdout",
     "output_type": "stream",
     "text": [
      "[[1.16019755e-310 1.16019746e-310 1.16020032e-310 1.16019755e-310\n",
      "  1.16020032e-310]\n",
      " [1.16019755e-310 1.16020032e-310 1.16019755e-310 1.16019746e-310\n",
      "  1.16020032e-310]\n",
      " [1.16019755e-310 1.16020032e-310 1.16019755e-310 1.16019746e-310\n",
      "  1.16020032e-310]\n",
      " [1.16019755e-310 1.16020032e-310 1.16019755e-310 1.16020032e-310\n",
      "  1.16019755e-310]\n",
      " [1.16019746e-310 1.16020032e-310 1.16019755e-310 1.16020032e-310\n",
      "  1.16019755e-310]]\n"
     ]
    }
   ],
   "source": [
    "# Make array empty\n",
    "a = np.empty((5,5))\n",
    "print(a)  # كلها اصفار بس مكتوبه بصيغه مختلفه "
   ]
  },
  {
   "cell_type": "code",
   "execution_count": 38,
   "id": "aeeacbe0",
   "metadata": {},
   "outputs": [
    {
     "name": "stdout",
     "output_type": "stream",
     "text": [
      "5.474564465328279\n",
      "***********************\n",
      "[7.99307781 3.13706575 8.72567814 4.40106631 7.32940718]\n",
      "***********************\n",
      "[6.67316206 4.59719299 6.63280278 2.44133518 2.71609738 8.74036706\n",
      " 6.49051818 2.77695052 3.44162138 2.19893187 4.39259988 5.40937497\n",
      " 6.00163692 6.42923967 2.16188139 6.27318809 1.37685892 9.31039798\n",
      " 6.83163255 9.96250808 4.25533399 8.07848953 9.59853506 7.81152643\n",
      " 7.81257844]\n",
      "***********************\n",
      "[[6.67316206 4.59719299 6.63280278 2.44133518 2.71609738]\n",
      " [8.74036706 6.49051818 2.77695052 3.44162138 2.19893187]\n",
      " [4.39259988 5.40937497 6.00163692 6.42923967 2.16188139]\n",
      " [6.27318809 1.37685892 9.31039798 6.83163255 9.96250808]\n",
      " [4.25533399 8.07848953 9.59853506 7.81152643 7.81257844]]\n"
     ]
    }
   ],
   "source": [
    "a = np.random.uniform(1,10)\n",
    "print(a)\n",
    "print(\"***********************\")\n",
    "s = np.random.uniform(1,10,5)\n",
    "print(s)\n",
    "print(\"***********************\")\n",
    "b = np.random.uniform(1,10 ,25)  # matrix size is  1*25\n",
    "print(b)\n",
    "print(\"***********************\")\n",
    "c = np.resize(b,(5,5))  # matrix size is  5*5\n",
    "print(c)"
   ]
  },
  {
   "cell_type": "code",
   "execution_count": 41,
   "id": "af187566",
   "metadata": {},
   "outputs": [
    {
     "data": {
      "text/plain": [
       "array([[0.15223398, 0.83068056, 0.26339693, 0.32751082, 0.43737827],\n",
       "       [0.0527545 , 0.75874432, 0.98193897, 0.29238893, 0.9506403 ],\n",
       "       [0.39880957, 0.5896588 , 0.68893324, 0.30748546, 0.03487579],\n",
       "       [0.87690132, 0.85903099, 0.97489098, 0.74406557, 0.93614663],\n",
       "       [0.30237464, 0.08669551, 0.86219642, 0.73653499, 0.42388572]])"
      ]
     },
     "execution_count": 41,
     "metadata": {},
     "output_type": "execute_result"
    }
   ],
   "source": [
    "a = np.random.random((5,5))\n",
    "a  #numbers are between 0 and 1 "
   ]
  },
  {
   "cell_type": "code",
   "execution_count": 43,
   "id": "92d4f6da",
   "metadata": {},
   "outputs": [
    {
     "data": {
      "text/plain": [
       "array([[1.52233985, 8.30680562, 2.6339693 , 3.27510824, 4.37378274],\n",
       "       [0.52754496, 7.58744322, 9.8193897 , 2.92388929, 9.50640295],\n",
       "       [3.98809572, 5.89658798, 6.8893324 , 3.07485458, 0.34875786],\n",
       "       [8.76901319, 8.59030989, 9.74890983, 7.44065566, 9.36146632],\n",
       "       [3.0237464 , 0.86695513, 8.62196422, 7.36534994, 4.23885722]])"
      ]
     },
     "execution_count": 43,
     "metadata": {},
     "output_type": "execute_result"
    }
   ],
   "source": [
    "b = a  * 10 \n",
    "b"
   ]
  },
  {
   "cell_type": "code",
   "execution_count": 54,
   "id": "ea39c990",
   "metadata": {},
   "outputs": [
    {
     "name": "stdout",
     "output_type": "stream",
     "text": [
      "[4 2 6 4 5 8 7 9 3 7]\n",
      "*************************************\n",
      "[[4 2]\n",
      " [6 4]\n",
      " [5 8]\n",
      " [7 9]\n",
      " [3 7]]\n"
     ]
    }
   ],
   "source": [
    "a = np.random.randint(2,10,size = 10)\n",
    "print(a)\n",
    "print(\"*************************************\")\n",
    "b = np.resize(a, (5,2))\n",
    "print(b)"
   ]
  },
  {
   "cell_type": "code",
   "execution_count": 61,
   "id": "2107174b",
   "metadata": {},
   "outputs": [
    {
     "name": "stdout",
     "output_type": "stream",
     "text": [
      "3\n",
      "3\n",
      "1\n"
     ]
    }
   ],
   "source": [
    "y = [1,2,3,2,56,2,3,113,0,23,4,3,4]\n",
    "print(np.random.choice(y))\n",
    "print(np.random.choice(y))\n",
    "print(np.random.choice(y))"
   ]
  },
  {
   "cell_type": "code",
   "execution_count": 71,
   "id": "85771dbd",
   "metadata": {},
   "outputs": [
    {
     "name": "stdout",
     "output_type": "stream",
     "text": [
      "None\n"
     ]
    }
   ],
   "source": [
    "y = [1,2,3,4,5,6,7,8]\n",
    "A = np.random.shuffle(y)\n",
    "print(A)"
   ]
  },
  {
   "cell_type": "markdown",
   "id": "5575f098",
   "metadata": {},
   "source": [
    "# To Make Zeros Matrix and Ones Matrix"
   ]
  },
  {
   "cell_type": "code",
   "execution_count": 75,
   "id": "21d18bcf",
   "metadata": {},
   "outputs": [
    {
     "name": "stdout",
     "output_type": "stream",
     "text": [
      "[0. 0. 0. 0. 0. 0. 0. 0.]\n"
     ]
    }
   ],
   "source": [
    "#Zeros Matrix : \n",
    "a = np.zeros(8)  # Shape is 1*8\n",
    "print(a)"
   ]
  },
  {
   "cell_type": "code",
   "execution_count": 76,
   "id": "39b5d59e",
   "metadata": {},
   "outputs": [
    {
     "name": "stdout",
     "output_type": "stream",
     "text": [
      "[[0. 0. 0. 0. 0. 0. 0. 0.]\n",
      " [0. 0. 0. 0. 0. 0. 0. 0.]\n",
      " [0. 0. 0. 0. 0. 0. 0. 0.]\n",
      " [0. 0. 0. 0. 0. 0. 0. 0.]\n",
      " [0. 0. 0. 0. 0. 0. 0. 0.]\n",
      " [0. 0. 0. 0. 0. 0. 0. 0.]\n",
      " [0. 0. 0. 0. 0. 0. 0. 0.]\n",
      " [0. 0. 0. 0. 0. 0. 0. 0.]]\n"
     ]
    }
   ],
   "source": [
    "#Zeros Matrix : \n",
    "a = np.zeros((8,8))  # Shape is 8*8\n",
    "print(a)"
   ]
  },
  {
   "cell_type": "code",
   "execution_count": 77,
   "id": "b3d88386",
   "metadata": {},
   "outputs": [
    {
     "name": "stdout",
     "output_type": "stream",
     "text": [
      "[1. 1. 1. 1. 1. 1. 1. 1.]\n"
     ]
    }
   ],
   "source": [
    "#Ones Matrix : \n",
    "a = np.ones(8)  # Shape is 1*8\n",
    "print(a)"
   ]
  },
  {
   "cell_type": "code",
   "execution_count": 78,
   "id": "cb55db71",
   "metadata": {},
   "outputs": [
    {
     "name": "stdout",
     "output_type": "stream",
     "text": [
      "[[1. 1. 1. 1. 1. 1. 1. 1.]\n",
      " [1. 1. 1. 1. 1. 1. 1. 1.]\n",
      " [1. 1. 1. 1. 1. 1. 1. 1.]\n",
      " [1. 1. 1. 1. 1. 1. 1. 1.]\n",
      " [1. 1. 1. 1. 1. 1. 1. 1.]\n",
      " [1. 1. 1. 1. 1. 1. 1. 1.]\n",
      " [1. 1. 1. 1. 1. 1. 1. 1.]\n",
      " [1. 1. 1. 1. 1. 1. 1. 1.]]\n"
     ]
    }
   ],
   "source": [
    "#Ones Matrix : \n",
    "a = np.ones((8,8))  # Shape is 1*8\n",
    "print(a)"
   ]
  },
  {
   "cell_type": "markdown",
   "id": "697cd672",
   "metadata": {},
   "source": [
    "# I (identity) Matrix مصفوفة الوحدة :"
   ]
  },
  {
   "cell_type": "code",
   "execution_count": 80,
   "id": "80c9349d",
   "metadata": {},
   "outputs": [
    {
     "data": {
      "text/plain": [
       "array([[1., 0., 0., 0., 0.],\n",
       "       [0., 1., 0., 0., 0.],\n",
       "       [0., 0., 1., 0., 0.],\n",
       "       [0., 0., 0., 1., 0.],\n",
       "       [0., 0., 0., 0., 1.]])"
      ]
     },
     "execution_count": 80,
     "metadata": {},
     "output_type": "execute_result"
    }
   ],
   "source": [
    "a = np.eye(5)  # Shape 5*5\n",
    "a"
   ]
  },
  {
   "cell_type": "code",
   "execution_count": 81,
   "id": "16e8a739",
   "metadata": {},
   "outputs": [
    {
     "data": {
      "text/plain": [
       "array([[1., 0., 0., 0., 0., 0., 0., 0., 0.],\n",
       "       [0., 1., 0., 0., 0., 0., 0., 0., 0.],\n",
       "       [0., 0., 1., 0., 0., 0., 0., 0., 0.],\n",
       "       [0., 0., 0., 1., 0., 0., 0., 0., 0.],\n",
       "       [0., 0., 0., 0., 1., 0., 0., 0., 0.],\n",
       "       [0., 0., 0., 0., 0., 1., 0., 0., 0.],\n",
       "       [0., 0., 0., 0., 0., 0., 1., 0., 0.],\n",
       "       [0., 0., 0., 0., 0., 0., 0., 1., 0.],\n",
       "       [0., 0., 0., 0., 0., 0., 0., 0., 1.]])"
      ]
     },
     "execution_count": 81,
     "metadata": {},
     "output_type": "execute_result"
    }
   ],
   "source": [
    "a = np.eye(9)  # Shape 9*9\n",
    "a"
   ]
  },
  {
   "cell_type": "markdown",
   "id": "6c99cbc0",
   "metadata": {},
   "source": [
    "## To Full value in the All values in matrix : Using Full Function"
   ]
  },
  {
   "cell_type": "code",
   "execution_count": 88,
   "id": "d5c68c8f",
   "metadata": {},
   "outputs": [
    {
     "data": {
      "text/plain": [
       "array([[35, 35, 35, 35, 35],\n",
       "       [35, 35, 35, 35, 35],\n",
       "       [35, 35, 35, 35, 35],\n",
       "       [35, 35, 35, 35, 35],\n",
       "       [35, 35, 35, 35, 35]])"
      ]
     },
     "execution_count": 88,
     "metadata": {},
     "output_type": "execute_result"
    }
   ],
   "source": [
    "np.full((5,5),35) # Shape 5*5 and the value is 35 "
   ]
  },
  {
   "cell_type": "code",
   "execution_count": 96,
   "id": "0fd340e9",
   "metadata": {},
   "outputs": [
    {
     "data": {
      "text/plain": [
       "array([[20, 20, 20, 20, 20, 20, 20, 20, 20],\n",
       "       [20, 20, 20, 20, 20, 20, 20, 20, 20],\n",
       "       [20, 20, 20, 20, 20, 20, 20, 20, 20],\n",
       "       [20, 20, 20, 20, 20, 20, 20, 20, 20],\n",
       "       [20, 20, 20, 20, 20, 20, 20, 20, 20],\n",
       "       [20, 20, 20, 20, 20, 20, 20, 20, 20],\n",
       "       [20, 20, 20, 20, 20, 20, 20, 20, 20],\n",
       "       [20, 20, 20, 20, 20, 20, 20, 20, 20],\n",
       "       [20, 20, 20, 20, 20, 20, 20, 20, 20]])"
      ]
     },
     "execution_count": 96,
     "metadata": {},
     "output_type": "execute_result"
    }
   ],
   "source": [
    "np.full((9,9),20) # Shape 9*9 and the value is 20 "
   ]
  },
  {
   "cell_type": "code",
   "execution_count": 92,
   "id": "8fe58166",
   "metadata": {},
   "outputs": [
    {
     "data": {
      "text/plain": [
       "array([[ 0,  1,  2],\n",
       "       [ 3,  4,  5],\n",
       "       [ 6,  7,  8],\n",
       "       [ 9, 10, 11],\n",
       "       [12, 13, 14],\n",
       "       [15, 16, 17]])"
      ]
     },
     "execution_count": 92,
     "metadata": {},
     "output_type": "execute_result"
    }
   ],
   "source": [
    "a = np.arange(18).reshape(6,3)\n",
    "a"
   ]
  },
  {
   "cell_type": "code",
   "execution_count": 95,
   "id": "f5346cb0",
   "metadata": {},
   "outputs": [
    {
     "data": {
      "text/plain": [
       "array([[ 0,  1,  2,  3,  4,  5,  6,  7,  8],\n",
       "       [ 9, 10, 11, 12, 13, 14, 15, 16, 17],\n",
       "       [18, 19, 20, 21, 22, 23, 24, 25, 26]])"
      ]
     },
     "execution_count": 95,
     "metadata": {},
     "output_type": "execute_result"
    }
   ],
   "source": [
    "a = np.arange(27).reshape(3,9) # one Matrix is shape (9*3)\n",
    "a"
   ]
  },
  {
   "cell_type": "code",
   "execution_count": 94,
   "id": "52445e9f",
   "metadata": {},
   "outputs": [
    {
     "data": {
      "text/plain": [
       "array([[[ 0,  1,  2],\n",
       "        [ 3,  4,  5],\n",
       "        [ 6,  7,  8]],\n",
       "\n",
       "       [[ 9, 10, 11],\n",
       "        [12, 13, 14],\n",
       "        [15, 16, 17]],\n",
       "\n",
       "       [[18, 19, 20],\n",
       "        [21, 22, 23],\n",
       "        [24, 25, 26]]])"
      ]
     },
     "execution_count": 94,
     "metadata": {},
     "output_type": "execute_result"
    }
   ],
   "source": [
    "a = np.arange(27).reshape(3,3,3) # Three matrix are shape (3*3)\n",
    "a"
   ]
  },
  {
   "cell_type": "markdown",
   "id": "f4ba3526",
   "metadata": {},
   "source": [
    "# Linspace Function:"
   ]
  },
  {
   "cell_type": "code",
   "execution_count": 97,
   "id": "96f2f83a",
   "metadata": {},
   "outputs": [
    {
     "data": {
      "text/plain": [
       "array([ 0.        ,  0.40816327,  0.81632653,  1.2244898 ,  1.63265306,\n",
       "        2.04081633,  2.44897959,  2.85714286,  3.26530612,  3.67346939,\n",
       "        4.08163265,  4.48979592,  4.89795918,  5.30612245,  5.71428571,\n",
       "        6.12244898,  6.53061224,  6.93877551,  7.34693878,  7.75510204,\n",
       "        8.16326531,  8.57142857,  8.97959184,  9.3877551 ,  9.79591837,\n",
       "       10.20408163, 10.6122449 , 11.02040816, 11.42857143, 11.83673469,\n",
       "       12.24489796, 12.65306122, 13.06122449, 13.46938776, 13.87755102,\n",
       "       14.28571429, 14.69387755, 15.10204082, 15.51020408, 15.91836735,\n",
       "       16.32653061, 16.73469388, 17.14285714, 17.55102041, 17.95918367,\n",
       "       18.36734694, 18.7755102 , 19.18367347, 19.59183673, 20.        ])"
      ]
     },
     "execution_count": 97,
     "metadata": {},
     "output_type": "execute_result"
    }
   ],
   "source": [
    "a = np.linspace(0,20)\n",
    "a"
   ]
  },
  {
   "cell_type": "code",
   "execution_count": 99,
   "id": "4074fac4",
   "metadata": {},
   "outputs": [
    {
     "data": {
      "text/plain": [
       "array([ 0.,  5., 10., 15., 20.])"
      ]
     },
     "execution_count": 99,
     "metadata": {},
     "output_type": "execute_result"
    }
   ],
   "source": [
    "a = np.linspace(0,20,5) # Splite by 5 Pieces.\n",
    "a"
   ]
  },
  {
   "cell_type": "code",
   "execution_count": 104,
   "id": "b6fc6256",
   "metadata": {},
   "outputs": [
    {
     "data": {
      "text/plain": [
       "array([  0.        ,   5.26315789,  10.52631579,  15.78947368,\n",
       "        21.05263158,  26.31578947,  31.57894737,  36.84210526,\n",
       "        42.10526316,  47.36842105,  52.63157895,  57.89473684,\n",
       "        63.15789474,  68.42105263,  73.68421053,  78.94736842,\n",
       "        84.21052632,  89.47368421,  94.73684211, 100.        ])"
      ]
     },
     "execution_count": 104,
     "metadata": {},
     "output_type": "execute_result"
    }
   ],
   "source": [
    "a = np.linspace(0,100,20) # Splite by 20 Pieces.\n",
    "a"
   ]
  },
  {
   "cell_type": "markdown",
   "id": "cc714988",
   "metadata": {},
   "source": [
    "## Diagnal matrix المصفوفة القطرية :\n",
    "### تعرفها هي مصفوفة صفريه ما عدا القطر الرئيسي في ارقام مختلفة"
   ]
  },
  {
   "cell_type": "code",
   "execution_count": 110,
   "id": "b4592496",
   "metadata": {},
   "outputs": [
    {
     "data": {
      "text/plain": [
       "array([[0, 0, 0, 0, 0, 0, 0, 0, 0, 0],\n",
       "       [0, 1, 0, 0, 0, 0, 0, 0, 0, 0],\n",
       "       [0, 0, 2, 0, 0, 0, 0, 0, 0, 0],\n",
       "       [0, 0, 0, 3, 0, 0, 0, 0, 0, 0],\n",
       "       [0, 0, 0, 0, 4, 0, 0, 0, 0, 0],\n",
       "       [0, 0, 0, 0, 0, 5, 0, 0, 0, 0],\n",
       "       [0, 0, 0, 0, 0, 0, 6, 0, 0, 0],\n",
       "       [0, 0, 0, 0, 0, 0, 0, 7, 0, 0],\n",
       "       [0, 0, 0, 0, 0, 0, 0, 0, 8, 0],\n",
       "       [0, 0, 0, 0, 0, 0, 0, 0, 0, 9]])"
      ]
     },
     "execution_count": 110,
     "metadata": {},
     "output_type": "execute_result"
    }
   ],
   "source": [
    "a = np.arange(10)\n",
    "b = np.diag(a)\n",
    "b"
   ]
  },
  {
   "cell_type": "code",
   "execution_count": 113,
   "id": "53d4c3ab",
   "metadata": {},
   "outputs": [
    {
     "data": {
      "text/plain": [
       "array([[0, 0, 0, 0, 0, 0, 0, 0, 0, 0, 0, 0, 0],\n",
       "       [0, 0, 0, 0, 1, 0, 0, 0, 0, 0, 0, 0, 0],\n",
       "       [0, 0, 0, 0, 0, 2, 0, 0, 0, 0, 0, 0, 0],\n",
       "       [0, 0, 0, 0, 0, 0, 3, 0, 0, 0, 0, 0, 0],\n",
       "       [0, 0, 0, 0, 0, 0, 0, 4, 0, 0, 0, 0, 0],\n",
       "       [0, 0, 0, 0, 0, 0, 0, 0, 5, 0, 0, 0, 0],\n",
       "       [0, 0, 0, 0, 0, 0, 0, 0, 0, 6, 0, 0, 0],\n",
       "       [0, 0, 0, 0, 0, 0, 0, 0, 0, 0, 7, 0, 0],\n",
       "       [0, 0, 0, 0, 0, 0, 0, 0, 0, 0, 0, 8, 0],\n",
       "       [0, 0, 0, 0, 0, 0, 0, 0, 0, 0, 0, 0, 9],\n",
       "       [0, 0, 0, 0, 0, 0, 0, 0, 0, 0, 0, 0, 0],\n",
       "       [0, 0, 0, 0, 0, 0, 0, 0, 0, 0, 0, 0, 0],\n",
       "       [0, 0, 0, 0, 0, 0, 0, 0, 0, 0, 0, 0, 0]])"
      ]
     },
     "execution_count": 113,
     "metadata": {},
     "output_type": "execute_result"
    }
   ],
   "source": [
    "a = np.arange(10)\n",
    "b = np.diag(a, k = 3)  # K is increase 3 rows and 3 colmuns \n",
    "b"
   ]
  },
  {
   "cell_type": "code",
   "execution_count": 117,
   "id": "060094fe",
   "metadata": {},
   "outputs": [
    {
     "name": "stdout",
     "output_type": "stream",
     "text": [
      "[[0 1 2]\n",
      " [3 4 5]\n",
      " [6 7 8]]\n",
      "8\n"
     ]
    }
   ],
   "source": [
    "a = np.arange(9).reshape(3,3)\n",
    "print(a)\n",
    "b = np.count_nonzero(a)\n",
    "print(b) # is 8 not zero and 1 element is 0"
   ]
  },
  {
   "cell_type": "markdown",
   "id": "f155457c",
   "metadata": {},
   "source": [
    "## To Compare with two martix : Using iscolse Function"
   ]
  },
  {
   "cell_type": "code",
   "execution_count": 127,
   "id": "bffb6b4f",
   "metadata": {},
   "outputs": [
    {
     "name": "stdout",
     "output_type": "stream",
     "text": [
      "[[0 1 2]\n",
      " [3 4 5]\n",
      " [6 7 8]]\n",
      "\n",
      "[[0 1 2]\n",
      " [3 4 5]\n",
      " [6 7 8]]\n",
      "\n",
      "[[ 0  2  4]\n",
      " [ 6  8 10]\n",
      " [12 14 16]]\n"
     ]
    }
   ],
   "source": [
    "a = np.arange(9).reshape(3,3)\n",
    "b = np.arange(9).reshape(3,3)\n",
    "c = a * 2 \n",
    "print(a)\n",
    "print(\"\")\n",
    "print(b)\n",
    "print(\"\")\n",
    "print(c)"
   ]
  },
  {
   "cell_type": "code",
   "execution_count": 129,
   "id": "6dc2f4bf",
   "metadata": {},
   "outputs": [
    {
     "data": {
      "text/plain": [
       "array([[ True,  True,  True],\n",
       "       [ True,  True,  True],\n",
       "       [ True,  True,  True]])"
      ]
     },
     "execution_count": 129,
     "metadata": {},
     "output_type": "execute_result"
    }
   ],
   "source": [
    "t = np.isclose(a,b,rtol=0.1)\n",
    "t"
   ]
  },
  {
   "cell_type": "code",
   "execution_count": 130,
   "id": "ff2a91ed",
   "metadata": {},
   "outputs": [
    {
     "data": {
      "text/plain": [
       "array([[ True, False, False],\n",
       "       [False, False, False],\n",
       "       [False, False, False]])"
      ]
     },
     "execution_count": 130,
     "metadata": {},
     "output_type": "execute_result"
    }
   ],
   "source": [
    "t = np.isclose(a,c,rtol=0.1)\n",
    "t"
   ]
  },
  {
   "cell_type": "code",
   "execution_count": 131,
   "id": "efa455f4",
   "metadata": {},
   "outputs": [
    {
     "data": {
      "text/plain": [
       "array([ 0., 10., 20., 30., 40., 50., 60., 70., 80.])"
      ]
     },
     "execution_count": 131,
     "metadata": {},
     "output_type": "execute_result"
    }
   ],
   "source": [
    "a = np.arange(9)\n",
    "b = np.empty(9)\n",
    "np.multiply(a,10,out = b)\n",
    "b"
   ]
  },
  {
   "cell_type": "code",
   "execution_count": 132,
   "id": "b9779007",
   "metadata": {},
   "outputs": [
    {
     "data": {
      "text/plain": [
       "array([[ 0., 10., 20.],\n",
       "       [30., 40., 50.],\n",
       "       [60., 70., 80.]])"
      ]
     },
     "execution_count": 132,
     "metadata": {},
     "output_type": "execute_result"
    }
   ],
   "source": [
    "a = np.arange(9).reshape(3,3)\n",
    "b = np.empty(9).reshape(3,3)\n",
    "np.multiply(a,10,out = b)\n",
    "b"
   ]
  },
  {
   "cell_type": "markdown",
   "id": "10d16144",
   "metadata": {},
   "source": [
    "## Some Feature of Add and multiply in numpy"
   ]
  },
  {
   "cell_type": "code",
   "execution_count": 133,
   "id": "43938af7",
   "metadata": {},
   "outputs": [
    {
     "data": {
      "text/plain": [
       "array([ 0,  1,  2,  3,  4,  5,  6,  7,  8,  9, 10, 11, 12, 13, 14])"
      ]
     },
     "execution_count": 133,
     "metadata": {},
     "output_type": "execute_result"
    }
   ],
   "source": [
    "a = np.arange(15)\n",
    "a"
   ]
  },
  {
   "cell_type": "code",
   "execution_count": 135,
   "id": "6aaf2641",
   "metadata": {},
   "outputs": [
    {
     "data": {
      "text/plain": [
       "105"
      ]
     },
     "execution_count": 135,
     "metadata": {},
     "output_type": "execute_result"
    }
   ],
   "source": [
    "b = np.add.reduce(a)  #بيجمع كل القيم في قيمه واحدة بس \n",
    "b"
   ]
  },
  {
   "cell_type": "code",
   "execution_count": 136,
   "id": "c9b72c9b",
   "metadata": {},
   "outputs": [
    {
     "data": {
      "text/plain": [
       "array([  0,   1,   3,   6,  10,  15,  21,  28,  36,  45,  55,  66,  78,\n",
       "        91, 105], dtype=int32)"
      ]
     },
     "execution_count": 136,
     "metadata": {},
     "output_type": "execute_result"
    }
   ],
   "source": [
    "b = np.add.accumulate(a) # العنصر بيكون مجموع العناصر اللي قبلهم \n",
    "b"
   ]
  },
  {
   "cell_type": "code",
   "execution_count": 139,
   "id": "43fd0b72",
   "metadata": {},
   "outputs": [
    {
     "name": "stdout",
     "output_type": "stream",
     "text": [
      "[2 3 4 5 6 7]\n",
      "5040\n"
     ]
    }
   ],
   "source": [
    "a = np.arange(2,8)\n",
    "print(a)\n",
    "b = np.multiply.reduce(a) #بيضرب كل العناصر في بعضها ز يطلع قيمة واحدة بس \n",
    "print(b)"
   ]
  },
  {
   "cell_type": "code",
   "execution_count": 141,
   "id": "20c37ba4",
   "metadata": {},
   "outputs": [
    {
     "name": "stdout",
     "output_type": "stream",
     "text": [
      "[2 3 4 5 6 7]\n"
     ]
    },
    {
     "data": {
      "text/plain": [
       "array([   2,    6,   24,  120,  720, 5040], dtype=int32)"
      ]
     },
     "execution_count": 141,
     "metadata": {},
     "output_type": "execute_result"
    }
   ],
   "source": [
    "a = np.arange(2,8)\n",
    "print(a)\n",
    "b = np.multiply.accumulate(a) # العنصر بيكون ضرب كل العناصر اللي قبله \n",
    "b"
   ]
  },
  {
   "cell_type": "code",
   "execution_count": 143,
   "id": "8fe694c4",
   "metadata": {},
   "outputs": [
    {
     "name": "stdout",
     "output_type": "stream",
     "text": [
      "[2 3 4 5 6 7]\n"
     ]
    },
    {
     "data": {
      "text/plain": [
       "array([[ 4,  6,  8, 10, 12, 14],\n",
       "       [ 6,  9, 12, 15, 18, 21],\n",
       "       [ 8, 12, 16, 20, 24, 28],\n",
       "       [10, 15, 20, 25, 30, 35],\n",
       "       [12, 18, 24, 30, 36, 42],\n",
       "       [14, 21, 28, 35, 42, 49]])"
      ]
     },
     "execution_count": 143,
     "metadata": {},
     "output_type": "execute_result"
    }
   ],
   "source": [
    "a = np.arange(2,8)\n",
    "print(a)\n",
    "b = np.multiply.outer(a,a) #بيضرب الصف الاول في اول عنصر و دا كدا اول صف في المصوفوفة الجديدة \n",
    "b"
   ]
  },
  {
   "cell_type": "markdown",
   "id": "ef2dd3f0",
   "metadata": {},
   "source": [
    "# Some info about the matrix:\n",
    "### (len(),size(),shape(),ndim(),dtype())"
   ]
  },
  {
   "cell_type": "code",
   "execution_count": 152,
   "id": "3cb8b239",
   "metadata": {},
   "outputs": [
    {
     "data": {
      "text/plain": [
       "15"
      ]
     },
     "execution_count": 152,
     "metadata": {},
     "output_type": "execute_result"
    }
   ],
   "source": [
    "a = np.arange(15)\n",
    "b = np.size(a)   #Size of matrix\n",
    "b"
   ]
  },
  {
   "cell_type": "code",
   "execution_count": 148,
   "id": "6e7fa1ad",
   "metadata": {},
   "outputs": [
    {
     "data": {
      "text/plain": [
       "12"
      ]
     },
     "execution_count": 148,
     "metadata": {},
     "output_type": "execute_result"
    }
   ],
   "source": [
    "a = np.arange(12).reshape(3,4)\n",
    "b = np.size(a)  #Size of matrix\n",
    "b"
   ]
  },
  {
   "cell_type": "code",
   "execution_count": 149,
   "id": "3b24af75",
   "metadata": {},
   "outputs": [
    {
     "data": {
      "text/plain": [
       "(15,)"
      ]
     },
     "execution_count": 149,
     "metadata": {},
     "output_type": "execute_result"
    }
   ],
   "source": [
    "a = np.arange(15)\n",
    "b = np.shape(a) #Shape of matrix\n",
    "b"
   ]
  },
  {
   "cell_type": "code",
   "execution_count": 151,
   "id": "4cb140e2",
   "metadata": {},
   "outputs": [
    {
     "data": {
      "text/plain": [
       "(3, 4)"
      ]
     },
     "execution_count": 151,
     "metadata": {},
     "output_type": "execute_result"
    }
   ],
   "source": [
    "a = np.arange(12).reshape(3,4)\n",
    "b = np.shape(a)  #Shape of matrix\n",
    "b"
   ]
  },
  {
   "cell_type": "code",
   "execution_count": 155,
   "id": "5511c6d1",
   "metadata": {},
   "outputs": [
    {
     "name": "stdout",
     "output_type": "stream",
     "text": [
      "[ 0  1  2  3  4  5  6  7  8  9 10 11 12 13 14]\n",
      "15\n"
     ]
    }
   ],
   "source": [
    "a = np.arange(15)\n",
    "print(a)\n",
    "b = len(a)\n",
    "print(b)"
   ]
  },
  {
   "cell_type": "code",
   "execution_count": 158,
   "id": "2e67942c",
   "metadata": {},
   "outputs": [
    {
     "name": "stdout",
     "output_type": "stream",
     "text": [
      "[[ 0  1  2  3  4]\n",
      " [ 5  6  7  8  9]\n",
      " [10 11 12 13 14]]\n",
      "**************\n",
      "3\n"
     ]
    }
   ],
   "source": [
    "a = np.arange(15).reshape(3,5)\n",
    "print(a)\n",
    "print(\"**************\")\n",
    "b = len(a)  # Count of the rows \n",
    "print(b)"
   ]
  },
  {
   "cell_type": "code",
   "execution_count": 159,
   "id": "6810d8ca",
   "metadata": {},
   "outputs": [
    {
     "name": "stdout",
     "output_type": "stream",
     "text": [
      "[[ 0  1  2  3  4]\n",
      " [ 5  6  7  8  9]\n",
      " [10 11 12 13 14]\n",
      " [15 16 17 18 19]\n",
      " [20 21 22 23 24]]\n",
      "**************\n",
      "5\n"
     ]
    }
   ],
   "source": [
    "a = np.arange(25).reshape(5,5)\n",
    "print(a)\n",
    "print(\"**************\")\n",
    "b = len(a)  # Count of the rows \n",
    "print(b)"
   ]
  },
  {
   "cell_type": "code",
   "execution_count": 161,
   "id": "ae2b883b",
   "metadata": {},
   "outputs": [
    {
     "name": "stdout",
     "output_type": "stream",
     "text": [
      "[[ 0  1  2  3  4]\n",
      " [ 5  6  7  8  9]\n",
      " [10 11 12 13 14]]\n",
      "**************\n",
      "int32\n"
     ]
    }
   ],
   "source": [
    "a = np.arange(15).reshape(3,5)\n",
    "print(a)\n",
    "print(\"**************\")\n",
    "b = a.dtype\n",
    "print(b) #data type of the matrix "
   ]
  },
  {
   "cell_type": "code",
   "execution_count": 164,
   "id": "5b85260c",
   "metadata": {},
   "outputs": [
    {
     "name": "stdout",
     "output_type": "stream",
     "text": [
      "['soso' 'moso' 'osoo' 'noso']\n",
      "**************\n",
      "<U4\n"
     ]
    }
   ],
   "source": [
    "a = np.array([\"soso\",\"moso\",\"osoo\",\"noso\"])\n",
    "print(a)\n",
    "print(\"**************\")\n",
    "b = a.dtype\n",
    "print(b) #data type of the matrix  U4 Means string"
   ]
  },
  {
   "cell_type": "markdown",
   "id": "f3cc4ef9",
   "metadata": {},
   "source": [
    "## How to make matrix with format function:"
   ]
  },
  {
   "cell_type": "code",
   "execution_count": 166,
   "id": "a130b311",
   "metadata": {},
   "outputs": [
    {
     "data": {
      "text/plain": [
       "matrix([[1, 2],\n",
       "        [3, 4]])"
      ]
     },
     "execution_count": 166,
     "metadata": {},
     "output_type": "execute_result"
    }
   ],
   "source": [
    "a = np.matrix(\"{} {} ; {} {}\".format(1,2,3,4))\n",
    "a"
   ]
  },
  {
   "cell_type": "code",
   "execution_count": 167,
   "id": "fe31f60d",
   "metadata": {},
   "outputs": [
    {
     "data": {
      "text/plain": [
       "matrix([[1, 2],\n",
       "        [3, 4],\n",
       "        [5, 6]])"
      ]
     },
     "execution_count": 167,
     "metadata": {},
     "output_type": "execute_result"
    }
   ],
   "source": [
    "a = np.matrix(\"{} {} ; {} {} ; {} {}\".format(1,2,3,4,5,6))\n",
    "a"
   ]
  },
  {
   "cell_type": "code",
   "execution_count": 168,
   "id": "c79615e4",
   "metadata": {},
   "outputs": [
    {
     "data": {
      "text/plain": [
       "matrix([[1, 2, 3],\n",
       "        [4, 5, 6],\n",
       "        [7, 8, 9]])"
      ]
     },
     "execution_count": 168,
     "metadata": {},
     "output_type": "execute_result"
    }
   ],
   "source": [
    "a = np.matrix(\"{} {} {} ; {} {} {} ; {} {} {}\".format(1,2,3,4,5,6,7,8,9))\n",
    "a"
   ]
  },
  {
   "cell_type": "code",
   "execution_count": 173,
   "id": "831edcc7",
   "metadata": {},
   "outputs": [
    {
     "name": "stdout",
     "output_type": "stream",
     "text": [
      "[[1 2 3]\n",
      " [4 5 6]\n",
      " [7 8 9]]\n",
      "***********\n",
      "15\n"
     ]
    }
   ],
   "source": [
    "print(a)\n",
    "print(\"***********\")\n",
    "b = np.trace(a)  # لجمع القطر الرئيسي في المصفوفة \n",
    "print(b)"
   ]
  },
  {
   "cell_type": "code",
   "execution_count": 175,
   "id": "78a7ecef",
   "metadata": {},
   "outputs": [
    {
     "name": "stdout",
     "output_type": "stream",
     "text": [
      "[[1 2]\n",
      " [3 4]\n",
      " [5 6]]\n",
      "***********\n",
      "5\n"
     ]
    }
   ],
   "source": [
    "a = np.matrix(\"{} {} ; {} {} ; {} {}\".format(1,2,3,4,5,6))\n",
    "print(a)\n",
    "print(\"***********\")\n",
    "b = np.trace(a)  # لجمع القطر الرئيسي في المصفوفة \n",
    "print(b)"
   ]
  },
  {
   "cell_type": "markdown",
   "id": "ee881f75",
   "metadata": {},
   "source": [
    "## To Caculate the determinant and eigan Value of the matrix:"
   ]
  },
  {
   "cell_type": "code",
   "execution_count": 183,
   "id": "b189c2c7",
   "metadata": {},
   "outputs": [
    {
     "data": {
      "text/plain": [
       "0.0"
      ]
     },
     "execution_count": 183,
     "metadata": {},
     "output_type": "execute_result"
    }
   ],
   "source": [
    "a = np.arange(2,11).reshape(3,3)\n",
    "b = np.linalg.det(a)\n",
    "b"
   ]
  },
  {
   "cell_type": "code",
   "execution_count": 185,
   "id": "240bb8b6",
   "metadata": {},
   "outputs": [
    {
     "name": "stdout",
     "output_type": "stream",
     "text": [
      "[[1 2 3]\n",
      " [4 5 6]\n",
      " [7 8 9]]\n",
      "6.66133814775094e-16\n"
     ]
    }
   ],
   "source": [
    "a = np.matrix(\"{} {} {} ; {} {} {} ; {} {} {}\".format(1,2,3,4,5,6,7,8,9))\n",
    "print(a)\n",
    "b = np.linalg.det(a)  #determinant value\n",
    "print(b)"
   ]
  },
  {
   "cell_type": "code",
   "execution_count": 186,
   "id": "fbf5c1c9",
   "metadata": {},
   "outputs": [
    {
     "name": "stdout",
     "output_type": "stream",
     "text": [
      "[[10 25 30]\n",
      " [20  6 12]\n",
      " [ 6  8  9]]\n",
      "600.0\n"
     ]
    }
   ],
   "source": [
    "a = np.matrix(\"{} {} {} ; {} {} {} ; {} {} {}\".format(10,25,30,20,6,12,6,8,9))\n",
    "print(a)\n",
    "b = np.linalg.det(a)  #determinant value\n",
    "print(b)"
   ]
  },
  {
   "cell_type": "code",
   "execution_count": 189,
   "id": "107d518c",
   "metadata": {},
   "outputs": [
    {
     "name": "stdout",
     "output_type": "stream",
     "text": [
      "[[1 2 3]\n",
      " [4 5 6]\n",
      " [7 8 9]]\n",
      "**********************\n",
      "(array([ 1.61168440e+01, -1.11684397e+00, -4.22209278e-16]), matrix([[-0.23197069, -0.78583024,  0.40824829],\n",
      "        [-0.52532209, -0.08675134, -0.81649658],\n",
      "        [-0.8186735 ,  0.61232756,  0.40824829]]))\n"
     ]
    }
   ],
   "source": [
    "a = np.matrix(\"{} {} {} ; {} {} {} ; {} {} {}\".format(1,2,3,4,5,6,7,8,9))\n",
    "print(a)\n",
    "print(\"**********************\")  #eigenvalues\n",
    "b = np.linalg.eig(a)\n",
    "print(b)"
   ]
  },
  {
   "cell_type": "code",
   "execution_count": 191,
   "id": "0dac7719",
   "metadata": {},
   "outputs": [
    {
     "name": "stdout",
     "output_type": "stream",
     "text": [
      "[[10 25 30]\n",
      " [20  6 12]\n",
      " [ 6  8  9]]\n",
      "(array([ 39.76424276, -13.65960359,  -1.10463917]), matrix([[-0.77165014, -0.67355792, -0.1368736 ],\n",
      "        [-0.56256053,  0.73467953, -0.73548663],\n",
      "        [-0.29678563, -0.08102916,  0.66356992]]))\n"
     ]
    }
   ],
   "source": [
    "a = np.matrix(\"{} {} {} ; {} {} {} ; {} {} {}\".format(10,25,30,20,6,12,6,8,9))\n",
    "print(a)\n",
    "b = np.linalg.eig(a) #eigenvalues\n",
    "print(b)"
   ]
  },
  {
   "cell_type": "markdown",
   "id": "7101cdbd",
   "metadata": {},
   "source": [
    "# splitting of the matrix:"
   ]
  },
  {
   "cell_type": "code",
   "execution_count": 195,
   "id": "45c91777",
   "metadata": {},
   "outputs": [
    {
     "name": "stdout",
     "output_type": "stream",
     "text": [
      "[ 0  1  2  3  4  5  6  7  8  9 10 11 12 13 14]\n",
      "\n",
      "3\n",
      "\n",
      "[2 3 4 5 6 7]\n",
      "\n",
      "[0 2 4 6 8]\n",
      "\n",
      "14\n",
      "\n",
      "[12 13]\n"
     ]
    }
   ],
   "source": [
    "a = np.arange(15)\n",
    "print(a)\n",
    "print(\"\")\n",
    "print(a[3])\n",
    "print(\"\")\n",
    "print(a[2:8])\n",
    "print(\"\")\n",
    "print(a[0:10:2])\n",
    "print(\"\")\n",
    "print(a[-1])\n",
    "print(\"\")\n",
    "print(a[-3:-1])"
   ]
  },
  {
   "cell_type": "code",
   "execution_count": 199,
   "id": "2c2024da",
   "metadata": {},
   "outputs": [
    {
     "name": "stdout",
     "output_type": "stream",
     "text": [
      "[[ 0  1  2  3  4  5  6  7  8  9]\n",
      " [10 11 12 13 14 15 16 17 18 19]\n",
      " [20 21 22 23 24 25 26 27 28 29]\n",
      " [30 31 32 33 34 35 36 37 38 39]\n",
      " [40 41 42 43 44 45 46 47 48 49]\n",
      " [50 51 52 53 54 55 56 57 58 59]\n",
      " [60 61 62 63 64 65 66 67 68 69]\n",
      " [70 71 72 73 74 75 76 77 78 79]\n",
      " [80 81 82 83 84 85 86 87 88 89]\n",
      " [90 91 92 93 94 95 96 97 98 99]]\n",
      "\n",
      "[30 31 32 33 34 35 36 37 38 39]\n",
      "\n",
      "[[20 21 22 23 24 25 26 27 28 29]\n",
      " [30 31 32 33 34 35 36 37 38 39]\n",
      " [40 41 42 43 44 45 46 47 48 49]\n",
      " [50 51 52 53 54 55 56 57 58 59]\n",
      " [60 61 62 63 64 65 66 67 68 69]\n",
      " [70 71 72 73 74 75 76 77 78 79]]\n",
      "\n",
      "[[ 0  1  2  3  4  5  6  7  8  9]\n",
      " [20 21 22 23 24 25 26 27 28 29]\n",
      " [40 41 42 43 44 45 46 47 48 49]\n",
      " [60 61 62 63 64 65 66 67 68 69]\n",
      " [80 81 82 83 84 85 86 87 88 89]]\n",
      "\n",
      "[90 91 92 93 94 95 96 97 98 99]\n",
      "\n",
      "[[70 71 72 73 74 75 76 77 78 79]\n",
      " [80 81 82 83 84 85 86 87 88 89]]\n"
     ]
    }
   ],
   "source": [
    "a = np.arange(100).reshape(10,10)\n",
    "print(a)\n",
    "print(\"\")\n",
    "print(a[3])  # get the 3 row\n",
    "print(\"\")\n",
    "print(a[2:8]) # get the 2 row to 7 row\n",
    "print(\"\")\n",
    "print(a[0:10:2]) # get the 0 row to 9 row by the step 2\n",
    "print(\"\")\n",
    "print(a[-1]) # get the last row\n",
    "print(\"\")\n",
    "print(a[-3:-1]) # get the last to -2"
   ]
  },
  {
   "cell_type": "code",
   "execution_count": null,
   "id": "f96e16ad",
   "metadata": {},
   "outputs": [],
   "source": [
    "a = np.arange(100).reshape(10,10)\n"
   ]
  },
  {
   "cell_type": "code",
   "execution_count": 200,
   "id": "4adb4230",
   "metadata": {},
   "outputs": [
    {
     "name": "stdout",
     "output_type": "stream",
     "text": [
      "[[ 0  1  2  3  4  5  6  7  8  9]\n",
      " [10 11 12 13 14 15 16 17 18 19]\n",
      " [20 21 22 23 24 25 26 27 28 29]\n",
      " [30 31 32 33 34 35 36 37 38 39]\n",
      " [40 41 42 43 44 45 46 47 48 49]\n",
      " [50 51 52 53 54 55 56 57 58 59]\n",
      " [60 61 62 63 64 65 66 67 68 69]\n",
      " [70 71 72 73 74 75 76 77 78 79]\n",
      " [80 81 82 83 84 85 86 87 88 89]\n",
      " [90 91 92 93 94 95 96 97 98 99]]\n",
      "\n",
      "32\n",
      "\n",
      "[25 35 45 55 65 75]\n",
      "\n",
      "[[ 3  4  5]\n",
      " [23 24 25]\n",
      " [43 44 45]\n",
      " [63 64 65]\n",
      " [83 84 85]]\n"
     ]
    }
   ],
   "source": [
    "print(a)\n",
    "print(\"\")\n",
    "print(a[3,2])  # لو في فصله ما بين الفتره ف دا بيدخل يجيب القيم اللي جوه علي حسب ما مكتوب \n",
    "print(\"\")\n",
    "print(a[2:8,5])\n",
    "print(\"\")\n",
    "print(a[0:10:2,3:6])"
   ]
  },
  {
   "cell_type": "markdown",
   "id": "78e8a587",
   "metadata": {},
   "source": [
    "# Split in matrix:"
   ]
  },
  {
   "cell_type": "code",
   "execution_count": 214,
   "id": "1309bd27",
   "metadata": {},
   "outputs": [
    {
     "name": "stdout",
     "output_type": "stream",
     "text": [
      "[0 1 2]\n",
      "[3 4]\n",
      "[5 6 7 8 9]\n"
     ]
    }
   ],
   "source": [
    "x = np.arange(10)\n",
    "x1,x2,x3 = np.split(x ,(3,5))\n",
    "print(x1)\n",
    "print(x2)\n",
    "print(x3)"
   ]
  },
  {
   "cell_type": "code",
   "execution_count": 209,
   "id": "19549a82",
   "metadata": {},
   "outputs": [
    {
     "name": "stdout",
     "output_type": "stream",
     "text": [
      "[0 1]\n",
      "[2 3 4 5 6 7]\n",
      "[ 8  9 10 11 12 13 14]\n"
     ]
    }
   ],
   "source": [
    "x = np.arange(15)\n",
    "x1,x2,x3 = np.split(x , (2,8))\n",
    "print(x1)\n",
    "print(x2)\n",
    "print(x3)"
   ]
  },
  {
   "cell_type": "markdown",
   "id": "16be5c0a",
   "metadata": {},
   "source": [
    "## To acess value in matrix :"
   ]
  },
  {
   "cell_type": "code",
   "execution_count": 218,
   "id": "29c9ec30",
   "metadata": {},
   "outputs": [
    {
     "name": "stdout",
     "output_type": "stream",
     "text": [
      "[[0 1 2]\n",
      " [3 4 5]\n",
      " [6 7 8]]\n",
      " \n",
      "7\n"
     ]
    }
   ],
   "source": [
    "a = np.arange(9).reshape(3,3)\n",
    "print(a)\n",
    "print(\" \")\n",
    "print(a[2][1])"
   ]
  },
  {
   "cell_type": "code",
   "execution_count": 224,
   "id": "8dd8940d",
   "metadata": {},
   "outputs": [
    {
     "name": "stdout",
     "output_type": "stream",
     "text": [
      "[[[ 0  1  2]\n",
      "  [ 3  4  5]\n",
      "  [ 6  7  8]]\n",
      "\n",
      " [[ 9 10 11]\n",
      "  [12 13 14]\n",
      "  [15 16 17]]\n",
      "\n",
      " [[18 19 20]\n",
      "  [21 22 23]\n",
      "  [24 25 26]]]\n",
      " \n",
      "5\n",
      "\n",
      "17\n"
     ]
    }
   ],
   "source": [
    "a = np.arange(27).reshape(3,3,3)\n",
    "print(a)\n",
    "print(\"\")\n",
    "print(a[0][1][2]) # frist is number of array and second is number of row third is the number of column\n",
    "print(\"\")\n",
    "print(a[1][2][2])"
   ]
  },
  {
   "cell_type": "markdown",
   "id": "553ce624",
   "metadata": {},
   "source": [
    "# To concatenate two or more matrix: \n",
    "### Using(vstack(), hstack(), concatenate())"
   ]
  },
  {
   "cell_type": "code",
   "execution_count": 228,
   "id": "1809376b",
   "metadata": {},
   "outputs": [
    {
     "data": {
      "text/plain": [
       "array([[10, 16, 16],\n",
       "       [14, 18, 18],\n",
       "       [10, 11, 12],\n",
       "       [18,  5, 12],\n",
       "       [ 9, 16,  6],\n",
       "       [13, 14,  6]])"
      ]
     },
     "execution_count": 228,
     "metadata": {},
     "output_type": "execute_result"
    }
   ],
   "source": [
    "a = np.random.randint(5,20,size = 9).reshape(3,3)\n",
    "b = np.random.randint(5,20,size = 9).reshape(3,3)\n",
    "c = np.vstack((a,b))   # بشكل راسي يعني عدد الاعمده لازم يكون متساوي في المصفوفتين\n",
    "c"
   ]
  },
  {
   "cell_type": "code",
   "execution_count": 231,
   "id": "33e7302b",
   "metadata": {},
   "outputs": [
    {
     "data": {
      "text/plain": [
       "array([[13, 14,  6],\n",
       "       [11, 17, 16],\n",
       "       [ 6,  6, 18],\n",
       "       [18,  7,  5],\n",
       "       [18, 12,  6],\n",
       "       [17, 14, 16],\n",
       "       [ 8, 15, 15],\n",
       "       [10,  8, 15]])"
      ]
     },
     "execution_count": 231,
     "metadata": {},
     "output_type": "execute_result"
    }
   ],
   "source": [
    "a = np.random.randint(5,20,size = 9).reshape(3,3)\n",
    "b = np.random.randint(5,20,size = 15).reshape(5,3)\n",
    "c = np.vstack((a,b))   # بشكل راسي يعني عدد الاعمده لازم يكون متساوي في المصفوفتين\n",
    "c"
   ]
  },
  {
   "cell_type": "code",
   "execution_count": 232,
   "id": "405258a5",
   "metadata": {},
   "outputs": [
    {
     "data": {
      "text/plain": [
       "array([[19, 19,  5,  5, 15, 10],\n",
       "       [ 9, 15,  7, 10,  5, 19],\n",
       "       [ 9, 18,  7,  5, 13, 12]])"
      ]
     },
     "execution_count": 232,
     "metadata": {},
     "output_type": "execute_result"
    }
   ],
   "source": [
    "a = np.random.randint(5,20,size = 9).reshape(3,3)\n",
    "b = np.random.randint(5,20,size = 9).reshape(3,3)\n",
    "c = np.hstack((a,b))   # بشكل افقي يعني عدد الصفوف لازم يكون متساوي في المصفوفتين\n",
    "c"
   ]
  },
  {
   "cell_type": "code",
   "execution_count": 233,
   "id": "98c3fa06",
   "metadata": {},
   "outputs": [
    {
     "data": {
      "text/plain": [
       "array([[ 9, 16, 14, 12, 13, 11,  6, 11],\n",
       "       [19, 16,  5,  8, 14,  9,  8,  5],\n",
       "       [16,  7, 12, 18,  5, 12, 15, 11]])"
      ]
     },
     "execution_count": 233,
     "metadata": {},
     "output_type": "execute_result"
    }
   ],
   "source": [
    "a = np.random.randint(5,20,size = 9).reshape(3,3)\n",
    "b = np.random.randint(5,20,size = 15).reshape(3,5)\n",
    "c = np.hstack((a,b))   # بشكل افقي يعني عدد الصفوف لازم يكون متساوي في المصفوفتين\n",
    "c"
   ]
  },
  {
   "cell_type": "code",
   "execution_count": 235,
   "id": "ec661e5f",
   "metadata": {},
   "outputs": [
    {
     "name": "stdout",
     "output_type": "stream",
     "text": [
      "[[19 17 11]\n",
      " [18  9 15]\n",
      " [12  7  6]\n",
      " [18 16 17]\n",
      " [17 10 10]\n",
      " [ 7 17 12]]\n",
      "[[19 17 11 18 16 17]\n",
      " [18  9 15 17 10 10]\n",
      " [12  7  6  7 17 12]]\n"
     ]
    }
   ],
   "source": [
    "a = np.random.randint(5,20,size = 9).reshape(3,3)\n",
    "b = np.random.randint(5,20,size = 9).reshape(3,3)\n",
    "c = np.concatenate([a,b] , axis = 0) # لو بتساوي صفر يعني هنضم راسي مع بعض ولازم شرط بتاع الراسي ثابت \n",
    "t = np.concatenate([a,b] , axis = 1)   # لو بتساوي واحد يعني هيضم افقي مع بعض و لازم الشرط بتاع الافقي ثابت \n",
    "print(c)\n",
    "print(t)"
   ]
  },
  {
   "cell_type": "code",
   "execution_count": 239,
   "id": "204ab8ed",
   "metadata": {},
   "outputs": [
    {
     "name": "stdout",
     "output_type": "stream",
     "text": [
      "[[16 18  7]\n",
      " [ 9  8 16]\n",
      " [13 17  5]\n",
      " [16 13 11]\n",
      " [10  8  9]\n",
      " [10  7 19]\n",
      " [17 18 10]\n",
      " [11 13 10]]\n"
     ]
    }
   ],
   "source": [
    "a = np.random.randint(5,20,size = 9).reshape(3,3)\n",
    "b = np.random.randint(5,20,size = 15).reshape(5,3)\n",
    "c = np.concatenate([a,b] , axis = 0) # لو بتساوي صفر يعني هنضم راسي مع بعض ولازم شرط بتاع الراسي ثابت \n",
    "print(c)\n"
   ]
  },
  {
   "cell_type": "code",
   "execution_count": 240,
   "id": "ffbb97e4",
   "metadata": {},
   "outputs": [
    {
     "name": "stdout",
     "output_type": "stream",
     "text": [
      "[[13 19  6  6 11 18 16  8]\n",
      " [ 7  9 13 17 15  6 16 11]\n",
      " [12  6 10 13 18 10 17 11]]\n"
     ]
    }
   ],
   "source": [
    "a = np.random.randint(5,20,size = 9).reshape(3,3)\n",
    "b = np.random.randint(5,20,size = 15).reshape(3,5)\n",
    "t = np.concatenate([a,b] , axis = 1)   # لو بتساوي واحد يعني هيضم افقي مع بعض و لازم الشرط بتاع الافقي ثابت \n",
    "print(t)"
   ]
  },
  {
   "cell_type": "markdown",
   "id": "c26dfd8f",
   "metadata": {},
   "source": [
    "## Some important funcations in numpy:"
   ]
  },
  {
   "cell_type": "code",
   "execution_count": 249,
   "id": "9f363266",
   "metadata": {},
   "outputs": [
    {
     "name": "stdout",
     "output_type": "stream",
     "text": [
      "[[ 9 15 14 14  8]\n",
      " [ 8  3  3  3  8]\n",
      " [ 7  5  6  4 13]\n",
      " [17 19 10 16  3]\n",
      " [ 3  2  4  3 10]]\n",
      "\n",
      "19\n"
     ]
    }
   ],
   "source": [
    "a = np.random.randint(2,20,size = 25).reshape(5,5)\n",
    "print(a)\n",
    "print(\"\")\n",
    "b = np.max(a)\n",
    "print(b)"
   ]
  },
  {
   "cell_type": "code",
   "execution_count": 250,
   "id": "51900f05",
   "metadata": {},
   "outputs": [
    {
     "name": "stdout",
     "output_type": "stream",
     "text": [
      "[[19 13 19  4 10]\n",
      " [ 2  7  4 11 19]\n",
      " [19 10 17 14  2]\n",
      " [14  3 15 19 12]\n",
      " [16 10 10 12 14]]\n",
      "\n",
      "2\n"
     ]
    }
   ],
   "source": [
    "a = np.random.randint(2,20,size = 25).reshape(5,5)\n",
    "print(a)\n",
    "print(\"\")\n",
    "b = np.min(a)\n",
    "print(b)"
   ]
  },
  {
   "cell_type": "code",
   "execution_count": 251,
   "id": "febae8be",
   "metadata": {},
   "outputs": [
    {
     "name": "stdout",
     "output_type": "stream",
     "text": [
      "[[ 8  5 18 19 12]\n",
      " [15 12 15  5 16]\n",
      " [15 13 16 13 16]\n",
      " [ 8 15 14 18 13]\n",
      " [ 4 18 14  2  2]]\n",
      "\n",
      "3\n"
     ]
    }
   ],
   "source": [
    "a = np.random.randint(2,20,size = 25).reshape(5,5)\n",
    "print(a)\n",
    "print(\"\")\n",
    "b = np.argmax(a)  # بيطبع الترتيب اكبر مكان \n",
    "print(b)"
   ]
  },
  {
   "cell_type": "code",
   "execution_count": 252,
   "id": "2ff11a39",
   "metadata": {},
   "outputs": [
    {
     "name": "stdout",
     "output_type": "stream",
     "text": [
      "[[ 7  3 14 12  7]\n",
      " [14  6  2  9  3]\n",
      " [11  6 14 13 10]\n",
      " [ 7 13 14 12 10]\n",
      " [17  4 16  8 18]]\n",
      "\n",
      "7\n"
     ]
    }
   ],
   "source": [
    "a = np.random.randint(2,20,size = 25).reshape(5,5)\n",
    "print(a)\n",
    "print(\"\")\n",
    "b = np.argmin(a) #بيطبع مكان اصغر مكان \n",
    "print(b)"
   ]
  },
  {
   "cell_type": "markdown",
   "id": "cabba822",
   "metadata": {},
   "source": [
    "## To calculate Variance , Covaricane :"
   ]
  },
  {
   "cell_type": "code",
   "execution_count": 256,
   "id": "de202bec",
   "metadata": {},
   "outputs": [
    {
     "name": "stdout",
     "output_type": "stream",
     "text": [
      "[[13  7 11]\n",
      " [ 9 11 19]\n",
      " [ 5 19  8]]\n",
      "\n",
      "21.77777777777778\n"
     ]
    }
   ],
   "source": [
    "a = np.random.randint(5,20,size = 9).reshape(3,3)\n",
    "print(a)\n",
    "print(\"\")\n",
    "b = np.var(a)\n",
    "print(b)"
   ]
  },
  {
   "cell_type": "code",
   "execution_count": 257,
   "id": "3522e060",
   "metadata": {},
   "outputs": [
    {
     "name": "stdout",
     "output_type": "stream",
     "text": [
      "[[14 10  6]\n",
      " [ 5 11 11]\n",
      " [12 15 17]]\n",
      "\n",
      "[[ 16.         -12.         -10.        ]\n",
      " [-12.          12.           8.        ]\n",
      " [-10.           8.           6.33333333]]\n"
     ]
    }
   ],
   "source": [
    "a = np.random.randint(5,20,size = 9).reshape(3,3)\n",
    "print(a)\n",
    "print(\"\")\n",
    "b = np.cov(a)\n",
    "print(b)"
   ]
  },
  {
   "cell_type": "markdown",
   "id": "5e6f14bd",
   "metadata": {},
   "source": [
    "## Some operations in matrix : (+,-,/,*)"
   ]
  },
  {
   "cell_type": "code",
   "execution_count": 258,
   "id": "c9afc3f6",
   "metadata": {},
   "outputs": [
    {
     "name": "stdout",
     "output_type": "stream",
     "text": [
      "[[10 13 13]\n",
      " [ 5 13 14]\n",
      " [19  5 16]]\n",
      "\n",
      "[[17 14 19]\n",
      " [14 17 11]\n",
      " [13  8  5]]\n",
      "\n",
      "[[27 27 32]\n",
      " [19 30 25]\n",
      " [32 13 21]]\n"
     ]
    }
   ],
   "source": [
    "a = np.random.randint(5,20,size = 9).reshape(3,3)\n",
    "b = np.random.randint(5,20,size = 9).reshape(3,3)\n",
    "c = a + b\n",
    "print(a)\n",
    "print(\"\")\n",
    "print(b)\n",
    "print(\"\")\n",
    "print(c)"
   ]
  },
  {
   "cell_type": "code",
   "execution_count": 259,
   "id": "49b6580e",
   "metadata": {},
   "outputs": [
    {
     "name": "stdout",
     "output_type": "stream",
     "text": [
      "[[ 6 11 15]\n",
      " [14 16  7]\n",
      " [ 5 10  6]]\n",
      "\n",
      "[[14  6  9]\n",
      " [16 17  6]\n",
      " [12  5 12]]\n",
      "\n",
      "[[-8  5  6]\n",
      " [-2 -1  1]\n",
      " [-7  5 -6]]\n"
     ]
    }
   ],
   "source": [
    "a = np.random.randint(5,20,size = 9).reshape(3,3)\n",
    "b = np.random.randint(5,20,size = 9).reshape(3,3)\n",
    "c = a - b\n",
    "print(a)\n",
    "print(\"\")\n",
    "print(b)\n",
    "print(\"\")\n",
    "print(c)"
   ]
  },
  {
   "cell_type": "code",
   "execution_count": 260,
   "id": "aa69344d",
   "metadata": {},
   "outputs": [
    {
     "name": "stdout",
     "output_type": "stream",
     "text": [
      "[[16  8 11]\n",
      " [ 8  6 15]\n",
      " [11 15 19]]\n",
      "\n",
      "[[ 8 15 18]\n",
      " [16 13  9]\n",
      " [16  5  9]]\n",
      "\n",
      "[[2.         0.53333333 0.61111111]\n",
      " [0.5        0.46153846 1.66666667]\n",
      " [0.6875     3.         2.11111111]]\n"
     ]
    }
   ],
   "source": [
    "a = np.random.randint(5,20,size = 9).reshape(3,3)\n",
    "b = np.random.randint(5,20,size = 9).reshape(3,3)\n",
    "c = a / b  # هنا بيقسم كل رقم علي اللي قدامه و بس لان مفيش قسمة في المصفوفات\n",
    "print(a)\n",
    "print(\"\")\n",
    "print(b)\n",
    "print(\"\")\n",
    "print(c)"
   ]
  },
  {
   "cell_type": "code",
   "execution_count": 261,
   "id": "cf17a4ee",
   "metadata": {},
   "outputs": [
    {
     "name": "stdout",
     "output_type": "stream",
     "text": [
      "[[15 10  9]\n",
      " [14 13  5]\n",
      " [ 7 18 11]]\n",
      "\n",
      "[[30 20 18]\n",
      " [28 26 10]\n",
      " [14 36 22]]\n"
     ]
    }
   ],
   "source": [
    "a = np.random.randint(5,20,size = 9).reshape(3,3)\n",
    "b = np.random.randint(5,20,size = 9).reshape(3,3)\n",
    "c = a * 2\n",
    "print(a)\n",
    "print(\"\")\n",
    "print(c)"
   ]
  },
  {
   "cell_type": "code",
   "execution_count": 262,
   "id": "8c65b57b",
   "metadata": {},
   "outputs": [
    {
     "name": "stdout",
     "output_type": "stream",
     "text": [
      "[[ 6 18 15]\n",
      " [15  9  8]\n",
      " [13 12 16]]\n",
      "\n",
      "[[3.  9.  7.5]\n",
      " [7.5 4.5 4. ]\n",
      " [6.5 6.  8. ]]\n"
     ]
    }
   ],
   "source": [
    "a = np.random.randint(5,20,size = 9).reshape(3,3)\n",
    "b = np.random.randint(5,20,size = 9).reshape(3,3)\n",
    "c = a / 2  # هنا بيقسم كل رقم علي اللي قدامه و بس لان مفيش قسمة في المصفوفات\n",
    "print(a)\n",
    "print(\"\")\n",
    "print(c)"
   ]
  },
  {
   "cell_type": "code",
   "execution_count": 264,
   "id": "ff852f90",
   "metadata": {},
   "outputs": [
    {
     "name": "stdout",
     "output_type": "stream",
     "text": [
      "[[ 6  7  6]\n",
      " [14  8  6]\n",
      " [ 8 10  9]]\n",
      "\n",
      "[[ 8  9  8]\n",
      " [16 10  8]\n",
      " [10 12 11]]\n"
     ]
    }
   ],
   "source": [
    "a = np.random.randint(5,20,size = 9).reshape(3,3)\n",
    "b = np.random.randint(5,20,size = 9).reshape(3,3)\n",
    "c = a + 2  \n",
    "print(a)\n",
    "print(\"\")\n",
    "print(c)"
   ]
  },
  {
   "cell_type": "code",
   "execution_count": 265,
   "id": "4d187dbb",
   "metadata": {},
   "outputs": [
    {
     "name": "stdout",
     "output_type": "stream",
     "text": [
      "[[14 11 17]\n",
      " [ 9 19 10]\n",
      " [14  8  6]]\n",
      "\n",
      "[[12  9 15]\n",
      " [ 7 17  8]\n",
      " [12  6  4]]\n"
     ]
    }
   ],
   "source": [
    "a = np.random.randint(5,20,size = 9).reshape(3,3)\n",
    "b = np.random.randint(5,20,size = 9).reshape(3,3)\n",
    "c = a - 2  \n",
    "print(a)\n",
    "print(\"\")\n",
    "print(c)"
   ]
  },
  {
   "cell_type": "code",
   "execution_count": 266,
   "id": "da327b8d",
   "metadata": {},
   "outputs": [
    {
     "name": "stdout",
     "output_type": "stream",
     "text": [
      "[[17 19 11]\n",
      " [10 14 16]\n",
      " [13 16 12]]\n",
      "\n",
      "[[289 361 121]\n",
      " [100 196 256]\n",
      " [169 256 144]]\n"
     ]
    }
   ],
   "source": [
    "a = np.random.randint(5,20,size = 9).reshape(3,3)\n",
    "b = np.random.randint(5,20,size = 9).reshape(3,3)\n",
    "c = a ** 2  # power 2\n",
    "print(a)\n",
    "print(\"\")\n",
    "print(c)"
   ]
  },
  {
   "cell_type": "code",
   "execution_count": 267,
   "id": "2f2d058b",
   "metadata": {},
   "outputs": [
    {
     "name": "stdout",
     "output_type": "stream",
     "text": [
      "[[18 16 19]\n",
      " [11 19 16]\n",
      " [ 8 13 10]]\n",
      "\n",
      "[[18  9  8]\n",
      " [ 7  6  6]\n",
      " [18 13 18]]\n",
      "\n",
      "[[778 505 582]\n",
      " [619 421 490]\n",
      " [415 280 322]]\n"
     ]
    }
   ],
   "source": [
    "a = np.random.randint(5,20,size = 9).reshape(3,3)\n",
    "b = np.random.randint(5,20,size = 9).reshape(3,3)\n",
    "c = np.dot(a,b)  \n",
    "print(a)\n",
    "print(\"\")\n",
    "print(b)\n",
    "print(\"\")\n",
    "print(c)"
   ]
  },
  {
   "cell_type": "code",
   "execution_count": 268,
   "id": "857259ef",
   "metadata": {},
   "outputs": [
    {
     "name": "stdout",
     "output_type": "stream",
     "text": [
      "[[14  7  5]\n",
      " [14 13  5]\n",
      " [17  6  7]]\n",
      "\n",
      "[[11 13 17]\n",
      " [10  5 12]\n",
      " [10 14  9]]\n",
      "\n",
      "[[154  91  85]\n",
      " [140  65  60]\n",
      " [170  84  63]]\n"
     ]
    }
   ],
   "source": [
    "a = np.random.randint(5,20,size = 9).reshape(3,3)\n",
    "b = np.random.randint(5,20,size = 9).reshape(3,3)\n",
    "c = a * b # هنا ضرب عادي كل عنص في اللي قدامه مش ضرب المصفوفات بتاع القوانين \n",
    "print(a)\n",
    "print(\"\")\n",
    "print(b)\n",
    "print(\"\")\n",
    "print(c)"
   ]
  },
  {
   "cell_type": "code",
   "execution_count": 269,
   "id": "90cd4114",
   "metadata": {},
   "outputs": [
    {
     "name": "stdout",
     "output_type": "stream",
     "text": [
      "[[ 7  8  9]\n",
      " [10 18 14]\n",
      " [ 9 11 12]]\n",
      "\n",
      "[[19 12 12 18 10]\n",
      " [17  8 18  6 16]\n",
      " [ 7 15  5 16 19]]\n",
      "\n",
      "[[332 283 273 318 369]\n",
      " [594 474 514 512 654]\n",
      " [442 376 366 420 494]]\n"
     ]
    }
   ],
   "source": [
    "a = np.random.randint(5,20,size = 9).reshape(3,3)\n",
    "b = np.random.randint(5,20,size = 15).reshape(3,5) # لازم عدد عواميد المصفوفة الاولي بيساوي عدد صفوف المصفوفة التانية مهممممممم\n",
    "c = np.dot(a,b)  \n",
    "print(a)\n",
    "print(\"\")\n",
    "print(b)\n",
    "print(\"\")\n",
    "print(c)"
   ]
  },
  {
   "cell_type": "code",
   "execution_count": 270,
   "id": "41da1f01",
   "metadata": {},
   "outputs": [
    {
     "name": "stdout",
     "output_type": "stream",
     "text": [
      "[[12 18  9]\n",
      " [16 11  7]\n",
      " [17 12 11]\n",
      " [19 15 16]]\n",
      "\n",
      "[[16 16  6  6 19]\n",
      " [ 9  5  6 17  9]\n",
      " [ 7 12  5  6  8]]\n",
      "\n",
      "[[417 390 225 432 462]\n",
      " [404 395 197 325 459]\n",
      " [457 464 229 372 519]\n",
      " [551 571 284 465 624]]\n"
     ]
    }
   ],
   "source": [
    "a = np.random.randint(5,20,size = 12).reshape(4,3)\n",
    "b = np.random.randint(5,20,size = 15).reshape(3,5) # لازم عدد عواميد المصفوفة الاولي بيساوي عدد صفوف المصفوفة التانية مهممممممم\n",
    "c = np.dot(a,b)  \n",
    "print(a)\n",
    "print(\"\")\n",
    "print(b)\n",
    "print(\"\")\n",
    "print(c)"
   ]
  },
  {
   "cell_type": "markdown",
   "id": "e350c374",
   "metadata": {},
   "source": [
    "##  Some basic Function in matrix: (log,sin,cos,tan,inverse,dot,sort,mean,std,var)"
   ]
  },
  {
   "cell_type": "code",
   "execution_count": 271,
   "id": "6d376130",
   "metadata": {},
   "outputs": [
    {
     "data": {
      "text/plain": [
       "array([[1.60943791, 2.30258509, 1.60943791],\n",
       "       [2.30258509, 1.60943791, 1.79175947],\n",
       "       [2.7080502 , 1.79175947, 1.79175947]])"
      ]
     },
     "execution_count": 271,
     "metadata": {},
     "output_type": "execute_result"
    }
   ],
   "source": [
    "a = np.random.randint(5,20,size = 9).reshape(3,3)\n",
    "b = np.log(a)\n",
    "b"
   ]
  },
  {
   "cell_type": "code",
   "execution_count": 272,
   "id": "e0bd1441",
   "metadata": {},
   "outputs": [
    {
     "data": {
      "text/plain": [
       "array([[ 0.6569866 ,  0.6569866 , -0.54402111],\n",
       "       [ 0.14987721, -0.54402111, -0.28790332],\n",
       "       [ 0.14987721,  0.6569866 ,  0.42016704]])"
      ]
     },
     "execution_count": 272,
     "metadata": {},
     "output_type": "execute_result"
    }
   ],
   "source": [
    "a = np.random.randint(5,20,size = 9).reshape(3,3)\n",
    "b = np.sin(a)\n",
    "b"
   ]
  },
  {
   "cell_type": "code",
   "execution_count": 273,
   "id": "feab91cf",
   "metadata": {},
   "outputs": [
    {
     "data": {
      "text/plain": [
       "array([[ 0.66031671, -0.27516334, -0.27516334],\n",
       "       [ 0.0044257 , -0.14550003, -0.27516334],\n",
       "       [ 0.66031671,  0.84385396,  0.0044257 ]])"
      ]
     },
     "execution_count": 273,
     "metadata": {},
     "output_type": "execute_result"
    }
   ],
   "source": [
    "a = np.random.randint(5,20,size = 9).reshape(3,3)\n",
    "b = np.cos(a)\n",
    "b"
   ]
  },
  {
   "cell_type": "code",
   "execution_count": 274,
   "id": "8e14476a",
   "metadata": {},
   "outputs": [
    {
     "data": {
      "text/plain": [
       "array([[   7.24460662, -225.95084645,   -0.8559934 ],\n",
       "       [  -0.8559934 , -225.95084645,    0.87144798],\n",
       "       [   3.49391565,   -0.8559934 ,    7.24460662]])"
      ]
     },
     "execution_count": 274,
     "metadata": {},
     "output_type": "execute_result"
    }
   ],
   "source": [
    "a = np.random.randint(5,20,size = 9).reshape(3,3)\n",
    "b = np.tan(a)\n",
    "b"
   ]
  },
  {
   "cell_type": "code",
   "execution_count": 275,
   "id": "c6baf3d3",
   "metadata": {},
   "outputs": [
    {
     "data": {
      "text/plain": [
       "array([[ 0.36175115,  0.01382488, -0.25576037],\n",
       "       [-0.23732719,  0.07373272,  0.1359447 ],\n",
       "       [ 0.10599078, -0.11059908,  0.04608295]])"
      ]
     },
     "execution_count": 275,
     "metadata": {},
     "output_type": "execute_result"
    }
   ],
   "source": [
    "a = np.random.randint(5,20,size = 9).reshape(3,3)\n",
    "b = np.linalg.inv(a)\n",
    "b"
   ]
  },
  {
   "cell_type": "code",
   "execution_count": 277,
   "id": "3d4e798b",
   "metadata": {},
   "outputs": [
    {
     "data": {
      "text/plain": [
       "11.11111111111111"
      ]
     },
     "execution_count": 277,
     "metadata": {},
     "output_type": "execute_result"
    }
   ],
   "source": [
    "a = np.random.randint(5,20,size = 9).reshape(3,3)\n",
    "b = a.mean()\n",
    "b"
   ]
  },
  {
   "cell_type": "code",
   "execution_count": 278,
   "id": "d801fdfa",
   "metadata": {},
   "outputs": [
    {
     "data": {
      "text/plain": [
       "3.496029493900505"
      ]
     },
     "execution_count": 278,
     "metadata": {},
     "output_type": "execute_result"
    }
   ],
   "source": [
    "a = np.random.randint(5,20,size = 9).reshape(3,3)\n",
    "b = a.std()\n",
    "b"
   ]
  },
  {
   "cell_type": "code",
   "execution_count": 279,
   "id": "81b49346",
   "metadata": {},
   "outputs": [
    {
     "data": {
      "text/plain": [
       "14.666666666666666"
      ]
     },
     "execution_count": 279,
     "metadata": {},
     "output_type": "execute_result"
    }
   ],
   "source": [
    "a = np.random.randint(5,20,size = 9).reshape(3,3)\n",
    "b = a.var()\n",
    "b"
   ]
  },
  {
   "cell_type": "code",
   "execution_count": 280,
   "id": "885ee26c",
   "metadata": {},
   "outputs": [
    {
     "data": {
      "text/plain": [
       "array([[361, 324, 324],\n",
       "       [ 81, 324, 196],\n",
       "       [ 64,  49,  25]], dtype=int32)"
      ]
     },
     "execution_count": 280,
     "metadata": {},
     "output_type": "execute_result"
    }
   ],
   "source": [
    "a = np.random.randint(5,20,size = 9).reshape(3,3)\n",
    "b = a**2\n",
    "b"
   ]
  },
  {
   "cell_type": "code",
   "execution_count": 281,
   "id": "08a3ced0",
   "metadata": {},
   "outputs": [
    {
     "data": {
      "text/plain": [
       "array([[304, 325, 585],\n",
       "       [250, 263, 491],\n",
       "       [306, 312, 599]])"
      ]
     },
     "execution_count": 281,
     "metadata": {},
     "output_type": "execute_result"
    }
   ],
   "source": [
    "a = np.random.randint(5,20,size = 9).reshape(3,3)\n",
    "b = np.random.randint(5,20,size = 9).reshape(3,3)\n",
    "c = np.dot(a,b)\n",
    "c"
   ]
  },
  {
   "cell_type": "code",
   "execution_count": 284,
   "id": "c23796bd",
   "metadata": {},
   "outputs": [
    {
     "name": "stdout",
     "output_type": "stream",
     "text": [
      "[[13  9  6]\n",
      " [13 15  7]\n",
      " [ 9 10  7]]\n",
      "\n",
      "[[ 9  9  6]\n",
      " [13 10  7]\n",
      " [13 15  7]]\n"
     ]
    }
   ],
   "source": [
    "a = np.random.randint(5,20,size = 9).reshape(3,3)\n",
    "print(a)\n",
    "print(\"\")\n",
    "b = np.sort(a,axis=0)  #راسي \n",
    "print(b)"
   ]
  },
  {
   "cell_type": "code",
   "execution_count": 285,
   "id": "d8f6d102",
   "metadata": {},
   "outputs": [
    {
     "name": "stdout",
     "output_type": "stream",
     "text": [
      "[[ 7  5  8]\n",
      " [13 18  7]\n",
      " [14 10 13]]\n",
      "\n",
      "[[ 5  7  8]\n",
      " [ 7 13 18]\n",
      " [10 13 14]]\n"
     ]
    }
   ],
   "source": [
    "a = np.random.randint(5,20,size = 9).reshape(3,3)\n",
    "print(a)\n",
    "print(\"\")\n",
    "b = np.sort(a,axis=1)  #افقي \n",
    "print(b)"
   ]
  },
  {
   "cell_type": "markdown",
   "id": "e68993b5",
   "metadata": {},
   "source": [
    "# How to read from file with Numpy:"
   ]
  },
  {
   "cell_type": "code",
   "execution_count": 293,
   "id": "30401941",
   "metadata": {},
   "outputs": [
    {
     "name": "stdout",
     "output_type": "stream",
     "text": [
      "[(b'M', 1.82) (b'M', 1.77) (b'F', 1.68) (b'M', 1.72) (b'F', 1.78)\n",
      " (b'F', 1.6 ) (b'M', 1.72) (b'M', 1.83) (b'F', 1.56) (b'F', 1.64)\n",
      " (b'M', 1.63) (b'M', 1.67) (b'M', 1.66) (b'F', 1.59) (b'F', 1.7 )\n",
      " (b'M', 1.97) (b'F', 1.66) (b'F', 1.63) (b'M', 1.69)]\n"
     ]
    }
   ],
   "source": [
    "path = \"D:\\\\Learn\\\\Hesham Asem\\\\Python-C\\\\Numpy\\\\Data.txt\"\n",
    "dtype1 = np.dtype([(\"geneder\",\"|S1\"),(\"height\",\"f8\")])\n",
    "Data = np.loadtxt(path , dtype = dtype1 , skiprows = 9 , usecols = (1,3))\n",
    "print(Data)"
   ]
  },
  {
   "cell_type": "code",
   "execution_count": 295,
   "id": "1b12c666",
   "metadata": {},
   "outputs": [
    {
     "name": "stdout",
     "output_type": "stream",
     "text": [
      "[(1, b'F', 18.72, 31.11) (2, b'F', 21.14, 52.47) (3, b'F', 19.38, 33.9 )]\n"
     ]
    }
   ],
   "source": [
    "path = \"D:\\\\Learn\\\\Hesham Asem\\\\Python-C\\\\Numpy\\\\Data2.txt\"\n",
    "data = np.genfromtxt(path, skip_header=1,\n",
    "                  dtype=[('student','u8'),\n",
    "                         ('gender','S1'),('black','f8'),\n",
    "                         ('colour','f8')],delimiter=',',\n",
    "                         missing_values='X')\n",
    "\n",
    "print(data)\n"
   ]
  },
  {
   "cell_type": "markdown",
   "id": "06e7e80a",
   "metadata": {},
   "source": [
    "# Polynomials : to get best fit line with many point\n"
   ]
  },
  {
   "cell_type": "code",
   "execution_count": 316,
   "id": "de9a3a87",
   "metadata": {},
   "outputs": [
    {
     "name": "stdout",
     "output_type": "stream",
     "text": [
      "[  0  20  40  60  80 100 120 140 160 180]\n",
      "\n",
      "[10  9  8  7  6  5  4  3  2  1]\n",
      "\n",
      "5.500000000000001 - 4.500000000000003 x**1\n"
     ]
    }
   ],
   "source": [
    "X = np.array([0,20,40,60,80,100,120,140,160,180])\n",
    "Y = np.array([10,9,8,7,6,5,4,3,2,1])\n",
    "print(X)\n",
    "print(\"\")\n",
    "print(Y)\n",
    "print(\"\")\n",
    "poly = np.polynomial.Polynomial\n",
    "points , stats = poly.fit(X,Y,1,full = True)\n",
    "print(points)"
   ]
  },
  {
   "cell_type": "code",
   "execution_count": 318,
   "id": "cd82e91c",
   "metadata": {},
   "outputs": [
    {
     "name": "stdout",
     "output_type": "stream",
     "text": [
      "[ 9  5  6  5 17 15 18  9  8  6 12 18 10  7 18 15 14 14  6 15]\n",
      "\n",
      "[ 5  5  3  7  8 10 14 10 13 18  5  2 18 12  9 18 11  8  2 18]\n",
      "\n",
      "12.10063401671164 + 1.185268239967396 x**1 - 4.477676022009249 x**2\n"
     ]
    }
   ],
   "source": [
    "X = np.random.randint(2,20,size=20)\n",
    "Y = np.random.randint(2,20,size=20)\n",
    "print(X)\n",
    "print(\"\")\n",
    "print(Y)\n",
    "print(\"\")\n",
    "ploy = np.polynomial.Polynomial\n",
    "points , stats = poly.fit(X,Y,2,full=True)\n",
    "print(points)"
   ]
  },
  {
   "cell_type": "code",
   "execution_count": 319,
   "id": "4902ca16",
   "metadata": {},
   "outputs": [
    {
     "name": "stdout",
     "output_type": "stream",
     "text": [
      "[  0  20  40  60  80 100 120 140 160 180]\n",
      "\n",
      "[10  9  8  7  6  5  4  3  2  1]\n",
      "\n",
      "5.499999999999999 - 4.500000000000003 x**1 + 0.0 x**2\n"
     ]
    }
   ],
   "source": [
    "X = np.array([0,20,40,60,80,100,120,140,160,180])\n",
    "Y = np.array([10,9,8,7,6,5,4,3,2,1])\n",
    "print(X)\n",
    "print(\"\")\n",
    "print(Y)\n",
    "print(\"\")\n",
    "ploy = np.polynomial.Polynomial\n",
    "points , stats = poly.fit(X,Y,2,full=True)\n",
    "print(points)"
   ]
  },
  {
   "cell_type": "markdown",
   "id": "91fab9b6",
   "metadata": {},
   "source": [
    "## Poly1d Function using to create equation with any degree:"
   ]
  },
  {
   "cell_type": "code",
   "execution_count": 321,
   "id": "a2964f6f",
   "metadata": {},
   "outputs": [
    {
     "name": "stdout",
     "output_type": "stream",
     "text": [
      " \n",
      "1\n",
      "******************\n",
      " \n",
      "1 x + 5\n",
      "******************\n",
      "   2\n",
      "2 x - 7 x + 14\n"
     ]
    }
   ],
   "source": [
    "a = np.poly1d((1))\n",
    "b = np.poly1d((1,5))\n",
    "c = np.poly1d((2,-7,14))\n",
    "print(a)\n",
    "print(\"******************\")\n",
    "print(b)\n",
    "print(\"******************\")\n",
    "print(c)"
   ]
  },
  {
   "cell_type": "code",
   "execution_count": 327,
   "id": "6935e481",
   "metadata": {},
   "outputs": [
    {
     "name": "stdout",
     "output_type": "stream",
     "text": [
      "1\n",
      "******************\n",
      "11\n",
      "******************\n",
      "63\n"
     ]
    }
   ],
   "source": [
    "a = np.poly1d((1)) \n",
    "b = np.poly1d((1,5)) \n",
    "c = np.poly1d((2,-7,14))\n",
    "s = a(2) # X = 2 in a equation   بيعوض في المعادلات الام اللي فوق\n",
    "d = b(6) # X = 6 in a equation\n",
    "f = c(7) # X = 7 in a equation\n",
    "print(s)\n",
    "print(\"******************\")\n",
    "print(d)\n",
    "print(\"******************\")\n",
    "print(f)"
   ]
  },
  {
   "cell_type": "markdown",
   "id": "689cb1ea",
   "metadata": {},
   "source": [
    "## Ployval Function بتعوض في المعادلات بالقيم اللي بتختارها و بتكريت جواها المعادلات عادي "
   ]
  },
  {
   "cell_type": "code",
   "execution_count": 331,
   "id": "56af0bca",
   "metadata": {},
   "outputs": [
    {
     "name": "stdout",
     "output_type": "stream",
     "text": [
      "   2\n",
      "1 x - 7 x + 12\n",
      "*****************\n",
      "2\n"
     ]
    }
   ],
   "source": [
    "e = np.poly1d((1,-7,12))\n",
    "print(e)\n",
    "print(\"*****************\")\n",
    "a = np.polyval(e,2) # X = 2 \n",
    "print(a)"
   ]
  },
  {
   "cell_type": "code",
   "execution_count": 332,
   "id": "f69fbc08",
   "metadata": {},
   "outputs": [
    {
     "name": "stdout",
     "output_type": "stream",
     "text": [
      "   3     2\n",
      "1 x - 7 x + 12 x + 5\n",
      "*****************\n",
      "15\n"
     ]
    }
   ],
   "source": [
    "e = np.poly1d((1,-7,12,5))\n",
    "print(e)\n",
    "print(\"*****************\")\n",
    "a = np.polyval(e,5) # X = 5 \n",
    "print(a)"
   ]
  },
  {
   "cell_type": "code",
   "execution_count": 333,
   "id": "4ebc644b",
   "metadata": {},
   "outputs": [
    {
     "name": "stdout",
     "output_type": "stream",
     "text": [
      "   2\n",
      "1 x - 7 x + 12\n",
      "*****************\n",
      "0\n"
     ]
    }
   ],
   "source": [
    "e = np.poly1d((1,-7,12))\n",
    "print(e)\n",
    "print(\"*****************\")\n",
    "a = np.polyval(e,4) # X = 4 \n",
    "print(a)"
   ]
  },
  {
   "cell_type": "markdown",
   "id": "6927d5fd",
   "metadata": {},
   "source": [
    "## Polyder Function لعمل المشتقه من اي درجة علي حسب اختيارك و بيتعمل المعادلة جواها :"
   ]
  },
  {
   "cell_type": "code",
   "execution_count": 337,
   "id": "77b74b7a",
   "metadata": {},
   "outputs": [
    {
     "name": "stdout",
     "output_type": "stream",
     "text": [
      "   2\n",
      "1 x - 7 x + 14\n",
      "*************************\n",
      " \n",
      "2 x - 7\n",
      "*************************\n",
      " \n",
      "2\n"
     ]
    }
   ],
   "source": [
    "e = np.poly1d((1,-7,14))\n",
    "print(e)\n",
    "print(\"*************************\")\n",
    "a = np.polyder(e,1)   # المشتقة الاولي من المعادلة\n",
    "print(a)\n",
    "print(\"*************************\")\n",
    "f = np.polyder(e,2)  # المشتقة التانية من المعادلة\n",
    "print(f)"
   ]
  },
  {
   "cell_type": "code",
   "execution_count": 338,
   "id": "31625857",
   "metadata": {},
   "outputs": [
    {
     "name": "stdout",
     "output_type": "stream",
     "text": [
      "   5     4      3     2\n",
      "1 x - 7 x + 14 x + 6 x + 8 x + 2\n",
      "*************************\n",
      "   4      3      2\n",
      "5 x - 28 x + 42 x + 12 x + 8\n",
      "*************************\n",
      "    3      2\n",
      "20 x - 84 x + 84 x + 12\n",
      "*************************\n",
      " \n",
      "120 x - 168\n"
     ]
    }
   ],
   "source": [
    "e = np.poly1d((1,-7,14,6,8,2))\n",
    "print(e)\n",
    "print(\"*************************\")\n",
    "a = np.polyder(e,1)   # المشتقة الاولي من المعادلة\n",
    "print(a)\n",
    "print(\"*************************\")\n",
    "f = np.polyder(e,2)  # المشتقة التانية من المعادلة\n",
    "print(f)\n",
    "print(\"*************************\")\n",
    "t = np.polyder(e,4)  # المشتقة الرابعه من المعادلة\n",
    "print(t)"
   ]
  },
  {
   "cell_type": "markdown",
   "id": "512031b5",
   "metadata": {},
   "source": [
    "## Roots Funcion لايجاد جزور المعادلة \n",
    "## جزور المعادلة هي الارقام التي تجعل قيمة المعادلة كلها تساوي الصفر "
   ]
  },
  {
   "cell_type": "code",
   "execution_count": 342,
   "id": "e5376224",
   "metadata": {},
   "outputs": [
    {
     "name": "stdout",
     "output_type": "stream",
     "text": [
      "   2\n",
      "1 x - 7 x + 12\n",
      "****************************\n",
      "[4. 3.]\n"
     ]
    }
   ],
   "source": [
    "e = np.poly1d((1,-7,12))\n",
    "print(e)\n",
    "print(\"****************************\")\n",
    "a = np.roots(e)\n",
    "print(a)   # لان المعادلة من الدرجة التانية و فيها اكس تربيع لذلك ليها اتنين جزور تخلي المعادلة تساوي الصفر عند التعويض"
   ]
  },
  {
   "cell_type": "code",
   "execution_count": 346,
   "id": "48a36b06",
   "metadata": {},
   "outputs": [
    {
     "name": "stdout",
     "output_type": "stream",
     "text": [
      "   2\n",
      "1 x + 5 x - 6\n",
      "****************************\n",
      "[-6.  1.]\n"
     ]
    }
   ],
   "source": [
    "e = np.poly1d((1,5,-6))\n",
    "print(e)\n",
    "print(\"****************************\")\n",
    "a = np.roots(e)\n",
    "print(a)   # لان المعادلة من الدرجة التانية و فيها اكس تربيع لذلك ليها اتنين جزور تخلي المعادلة تساوي الصفر عند التعويض"
   ]
  },
  {
   "cell_type": "markdown",
   "id": "0b0346d5",
   "metadata": {},
   "source": [
    "## poltfit Function :"
   ]
  },
  {
   "cell_type": "code",
   "execution_count": 354,
   "id": "701a7c26",
   "metadata": {},
   "outputs": [
    {
     "name": "stdout",
     "output_type": "stream",
     "text": [
      "[ 3  8 17  4  2]\n",
      "******************************\n",
      "[ 4 14 10 17  2]\n",
      "******************************\n",
      "[-0.19500902  4.09200535 -3.52694697]\n"
     ]
    }
   ],
   "source": [
    "X = np.random.randint(2,20,size = 5)\n",
    "Y = np.random.randint(2,20,size = 5)\n",
    "print(X)\n",
    "print(\"******************************\")\n",
    "print(Y)\n",
    "print(\"******************************\")\n",
    "z = np.polyfit(X,Y,2)  # U من الدرجة التانيه علي شكل \n",
    "print(z)"
   ]
  },
  {
   "cell_type": "code",
   "execution_count": null,
   "id": "d3058d1a",
   "metadata": {},
   "outputs": [],
   "source": [
    "\n"
   ]
  },
  {
   "cell_type": "code",
   "execution_count": null,
   "id": "0e9e4484",
   "metadata": {},
   "outputs": [],
   "source": []
  }
 ],
 "metadata": {
  "kernelspec": {
   "display_name": "Python 3 (ipykernel)",
   "language": "python",
   "name": "python3"
  },
  "language_info": {
   "codemirror_mode": {
    "name": "ipython",
    "version": 3
   },
   "file_extension": ".py",
   "mimetype": "text/x-python",
   "name": "python",
   "nbconvert_exporter": "python",
   "pygments_lexer": "ipython3",
   "version": "3.9.12"
  }
 },
 "nbformat": 4,
 "nbformat_minor": 5
}
